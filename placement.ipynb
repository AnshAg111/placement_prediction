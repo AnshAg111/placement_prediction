{
 "cells": [
  {
   "cell_type": "code",
   "execution_count": 52,
   "metadata": {},
   "outputs": [],
   "source": [
    "import pandas as pd \n",
    "import numpy as np \n",
    "import seaborn as sns \n",
    "import matplotlib.pyplot as plt \n",
    "import warnings \n",
    "warnings.filterwarnings('ignore')\n",
    "data=pd.read_csv('placedata v2.0 synthetic.csv')"
   ]
  },
  {
   "cell_type": "code",
   "execution_count": 53,
   "metadata": {},
   "outputs": [
    {
     "data": {
      "text/html": [
       "<div>\n",
       "<style scoped>\n",
       "    .dataframe tbody tr th:only-of-type {\n",
       "        vertical-align: middle;\n",
       "    }\n",
       "\n",
       "    .dataframe tbody tr th {\n",
       "        vertical-align: top;\n",
       "    }\n",
       "\n",
       "    .dataframe thead th {\n",
       "        text-align: right;\n",
       "    }\n",
       "</style>\n",
       "<table border=\"1\" class=\"dataframe\">\n",
       "  <thead>\n",
       "    <tr style=\"text-align: right;\">\n",
       "      <th></th>\n",
       "      <th>StudentID</th>\n",
       "      <th>CGPA</th>\n",
       "      <th>Internships</th>\n",
       "      <th>Projects</th>\n",
       "      <th>Workshops/Certifications</th>\n",
       "      <th>AptitudeTestScore</th>\n",
       "      <th>SoftSkillsRating</th>\n",
       "      <th>ExtracurricularActivities</th>\n",
       "      <th>PlacementTraining</th>\n",
       "      <th>SSC_Marks</th>\n",
       "      <th>HSC_Marks</th>\n",
       "      <th>PlacementStatus</th>\n",
       "    </tr>\n",
       "  </thead>\n",
       "  <tbody>\n",
       "    <tr>\n",
       "      <th>0</th>\n",
       "      <td>1</td>\n",
       "      <td>7.5</td>\n",
       "      <td>1</td>\n",
       "      <td>1</td>\n",
       "      <td>1</td>\n",
       "      <td>65</td>\n",
       "      <td>4.4</td>\n",
       "      <td>No</td>\n",
       "      <td>No</td>\n",
       "      <td>61</td>\n",
       "      <td>79</td>\n",
       "      <td>NotPlaced</td>\n",
       "    </tr>\n",
       "    <tr>\n",
       "      <th>1</th>\n",
       "      <td>2</td>\n",
       "      <td>8.9</td>\n",
       "      <td>0</td>\n",
       "      <td>3</td>\n",
       "      <td>2</td>\n",
       "      <td>90</td>\n",
       "      <td>4.0</td>\n",
       "      <td>Yes</td>\n",
       "      <td>Yes</td>\n",
       "      <td>78</td>\n",
       "      <td>82</td>\n",
       "      <td>Placed</td>\n",
       "    </tr>\n",
       "    <tr>\n",
       "      <th>2</th>\n",
       "      <td>3</td>\n",
       "      <td>7.3</td>\n",
       "      <td>1</td>\n",
       "      <td>2</td>\n",
       "      <td>2</td>\n",
       "      <td>82</td>\n",
       "      <td>4.8</td>\n",
       "      <td>Yes</td>\n",
       "      <td>No</td>\n",
       "      <td>79</td>\n",
       "      <td>80</td>\n",
       "      <td>NotPlaced</td>\n",
       "    </tr>\n",
       "    <tr>\n",
       "      <th>3</th>\n",
       "      <td>4</td>\n",
       "      <td>7.5</td>\n",
       "      <td>1</td>\n",
       "      <td>1</td>\n",
       "      <td>2</td>\n",
       "      <td>85</td>\n",
       "      <td>4.4</td>\n",
       "      <td>Yes</td>\n",
       "      <td>Yes</td>\n",
       "      <td>81</td>\n",
       "      <td>80</td>\n",
       "      <td>Placed</td>\n",
       "    </tr>\n",
       "    <tr>\n",
       "      <th>4</th>\n",
       "      <td>5</td>\n",
       "      <td>8.3</td>\n",
       "      <td>1</td>\n",
       "      <td>2</td>\n",
       "      <td>2</td>\n",
       "      <td>86</td>\n",
       "      <td>4.5</td>\n",
       "      <td>Yes</td>\n",
       "      <td>Yes</td>\n",
       "      <td>74</td>\n",
       "      <td>88</td>\n",
       "      <td>Placed</td>\n",
       "    </tr>\n",
       "  </tbody>\n",
       "</table>\n",
       "</div>"
      ],
      "text/plain": [
       "   StudentID  CGPA  Internships  Projects  Workshops/Certifications  \\\n",
       "0          1   7.5            1         1                         1   \n",
       "1          2   8.9            0         3                         2   \n",
       "2          3   7.3            1         2                         2   \n",
       "3          4   7.5            1         1                         2   \n",
       "4          5   8.3            1         2                         2   \n",
       "\n",
       "   AptitudeTestScore  SoftSkillsRating ExtracurricularActivities  \\\n",
       "0                 65               4.4                        No   \n",
       "1                 90               4.0                       Yes   \n",
       "2                 82               4.8                       Yes   \n",
       "3                 85               4.4                       Yes   \n",
       "4                 86               4.5                       Yes   \n",
       "\n",
       "  PlacementTraining  SSC_Marks  HSC_Marks PlacementStatus  \n",
       "0                No         61         79       NotPlaced  \n",
       "1               Yes         78         82          Placed  \n",
       "2                No         79         80       NotPlaced  \n",
       "3               Yes         81         80          Placed  \n",
       "4               Yes         74         88          Placed  "
      ]
     },
     "execution_count": 53,
     "metadata": {},
     "output_type": "execute_result"
    }
   ],
   "source": [
    "data.head()"
   ]
  },
  {
   "cell_type": "code",
   "execution_count": 54,
   "metadata": {},
   "outputs": [
    {
     "data": {
      "text/plain": [
       "StudentID                    0\n",
       "CGPA                         0\n",
       "Internships                  0\n",
       "Projects                     0\n",
       "Workshops/Certifications     0\n",
       "AptitudeTestScore            0\n",
       "SoftSkillsRating             0\n",
       "ExtracurricularActivities    0\n",
       "PlacementTraining            0\n",
       "SSC_Marks                    0\n",
       "HSC_Marks                    0\n",
       "PlacementStatus              0\n",
       "dtype: int64"
      ]
     },
     "execution_count": 54,
     "metadata": {},
     "output_type": "execute_result"
    }
   ],
   "source": [
    "data.isnull().sum()"
   ]
  },
  {
   "cell_type": "code",
   "execution_count": 55,
   "metadata": {},
   "outputs": [
    {
     "data": {
      "text/html": [
       "<div>\n",
       "<style scoped>\n",
       "    .dataframe tbody tr th:only-of-type {\n",
       "        vertical-align: middle;\n",
       "    }\n",
       "\n",
       "    .dataframe tbody tr th {\n",
       "        vertical-align: top;\n",
       "    }\n",
       "\n",
       "    .dataframe thead th {\n",
       "        text-align: right;\n",
       "    }\n",
       "</style>\n",
       "<table border=\"1\" class=\"dataframe\">\n",
       "  <thead>\n",
       "    <tr style=\"text-align: right;\">\n",
       "      <th></th>\n",
       "      <th>CGPA</th>\n",
       "      <th>Internships</th>\n",
       "      <th>Projects</th>\n",
       "      <th>Workshops/Certifications</th>\n",
       "      <th>AptitudeTestScore</th>\n",
       "      <th>SoftSkillsRating</th>\n",
       "      <th>ExtracurricularActivities</th>\n",
       "      <th>PlacementTraining</th>\n",
       "      <th>SSC_Marks</th>\n",
       "      <th>HSC_Marks</th>\n",
       "      <th>PlacementStatus</th>\n",
       "    </tr>\n",
       "  </thead>\n",
       "  <tbody>\n",
       "    <tr>\n",
       "      <th>0</th>\n",
       "      <td>7.5</td>\n",
       "      <td>1</td>\n",
       "      <td>1</td>\n",
       "      <td>1</td>\n",
       "      <td>65</td>\n",
       "      <td>4.4</td>\n",
       "      <td>No</td>\n",
       "      <td>No</td>\n",
       "      <td>61</td>\n",
       "      <td>79</td>\n",
       "      <td>NotPlaced</td>\n",
       "    </tr>\n",
       "    <tr>\n",
       "      <th>1</th>\n",
       "      <td>8.9</td>\n",
       "      <td>0</td>\n",
       "      <td>3</td>\n",
       "      <td>2</td>\n",
       "      <td>90</td>\n",
       "      <td>4.0</td>\n",
       "      <td>Yes</td>\n",
       "      <td>Yes</td>\n",
       "      <td>78</td>\n",
       "      <td>82</td>\n",
       "      <td>Placed</td>\n",
       "    </tr>\n",
       "    <tr>\n",
       "      <th>2</th>\n",
       "      <td>7.3</td>\n",
       "      <td>1</td>\n",
       "      <td>2</td>\n",
       "      <td>2</td>\n",
       "      <td>82</td>\n",
       "      <td>4.8</td>\n",
       "      <td>Yes</td>\n",
       "      <td>No</td>\n",
       "      <td>79</td>\n",
       "      <td>80</td>\n",
       "      <td>NotPlaced</td>\n",
       "    </tr>\n",
       "    <tr>\n",
       "      <th>3</th>\n",
       "      <td>7.5</td>\n",
       "      <td>1</td>\n",
       "      <td>1</td>\n",
       "      <td>2</td>\n",
       "      <td>85</td>\n",
       "      <td>4.4</td>\n",
       "      <td>Yes</td>\n",
       "      <td>Yes</td>\n",
       "      <td>81</td>\n",
       "      <td>80</td>\n",
       "      <td>Placed</td>\n",
       "    </tr>\n",
       "    <tr>\n",
       "      <th>4</th>\n",
       "      <td>8.3</td>\n",
       "      <td>1</td>\n",
       "      <td>2</td>\n",
       "      <td>2</td>\n",
       "      <td>86</td>\n",
       "      <td>4.5</td>\n",
       "      <td>Yes</td>\n",
       "      <td>Yes</td>\n",
       "      <td>74</td>\n",
       "      <td>88</td>\n",
       "      <td>Placed</td>\n",
       "    </tr>\n",
       "    <tr>\n",
       "      <th>...</th>\n",
       "      <td>...</td>\n",
       "      <td>...</td>\n",
       "      <td>...</td>\n",
       "      <td>...</td>\n",
       "      <td>...</td>\n",
       "      <td>...</td>\n",
       "      <td>...</td>\n",
       "      <td>...</td>\n",
       "      <td>...</td>\n",
       "      <td>...</td>\n",
       "      <td>...</td>\n",
       "    </tr>\n",
       "    <tr>\n",
       "      <th>9995</th>\n",
       "      <td>7.5</td>\n",
       "      <td>1</td>\n",
       "      <td>1</td>\n",
       "      <td>2</td>\n",
       "      <td>72</td>\n",
       "      <td>3.9</td>\n",
       "      <td>Yes</td>\n",
       "      <td>No</td>\n",
       "      <td>85</td>\n",
       "      <td>66</td>\n",
       "      <td>NotPlaced</td>\n",
       "    </tr>\n",
       "    <tr>\n",
       "      <th>9996</th>\n",
       "      <td>7.4</td>\n",
       "      <td>0</td>\n",
       "      <td>1</td>\n",
       "      <td>0</td>\n",
       "      <td>90</td>\n",
       "      <td>4.8</td>\n",
       "      <td>No</td>\n",
       "      <td>No</td>\n",
       "      <td>84</td>\n",
       "      <td>67</td>\n",
       "      <td>Placed</td>\n",
       "    </tr>\n",
       "    <tr>\n",
       "      <th>9997</th>\n",
       "      <td>8.4</td>\n",
       "      <td>1</td>\n",
       "      <td>3</td>\n",
       "      <td>0</td>\n",
       "      <td>70</td>\n",
       "      <td>4.8</td>\n",
       "      <td>Yes</td>\n",
       "      <td>Yes</td>\n",
       "      <td>79</td>\n",
       "      <td>81</td>\n",
       "      <td>Placed</td>\n",
       "    </tr>\n",
       "    <tr>\n",
       "      <th>9998</th>\n",
       "      <td>8.9</td>\n",
       "      <td>0</td>\n",
       "      <td>3</td>\n",
       "      <td>2</td>\n",
       "      <td>87</td>\n",
       "      <td>4.8</td>\n",
       "      <td>Yes</td>\n",
       "      <td>Yes</td>\n",
       "      <td>71</td>\n",
       "      <td>85</td>\n",
       "      <td>Placed</td>\n",
       "    </tr>\n",
       "    <tr>\n",
       "      <th>9999</th>\n",
       "      <td>8.4</td>\n",
       "      <td>0</td>\n",
       "      <td>1</td>\n",
       "      <td>1</td>\n",
       "      <td>66</td>\n",
       "      <td>3.8</td>\n",
       "      <td>No</td>\n",
       "      <td>No</td>\n",
       "      <td>62</td>\n",
       "      <td>66</td>\n",
       "      <td>NotPlaced</td>\n",
       "    </tr>\n",
       "  </tbody>\n",
       "</table>\n",
       "<p>10000 rows × 11 columns</p>\n",
       "</div>"
      ],
      "text/plain": [
       "      CGPA  Internships  Projects  Workshops/Certifications  \\\n",
       "0      7.5            1         1                         1   \n",
       "1      8.9            0         3                         2   \n",
       "2      7.3            1         2                         2   \n",
       "3      7.5            1         1                         2   \n",
       "4      8.3            1         2                         2   \n",
       "...    ...          ...       ...                       ...   \n",
       "9995   7.5            1         1                         2   \n",
       "9996   7.4            0         1                         0   \n",
       "9997   8.4            1         3                         0   \n",
       "9998   8.9            0         3                         2   \n",
       "9999   8.4            0         1                         1   \n",
       "\n",
       "      AptitudeTestScore  SoftSkillsRating ExtracurricularActivities  \\\n",
       "0                    65               4.4                        No   \n",
       "1                    90               4.0                       Yes   \n",
       "2                    82               4.8                       Yes   \n",
       "3                    85               4.4                       Yes   \n",
       "4                    86               4.5                       Yes   \n",
       "...                 ...               ...                       ...   \n",
       "9995                 72               3.9                       Yes   \n",
       "9996                 90               4.8                        No   \n",
       "9997                 70               4.8                       Yes   \n",
       "9998                 87               4.8                       Yes   \n",
       "9999                 66               3.8                        No   \n",
       "\n",
       "     PlacementTraining  SSC_Marks  HSC_Marks PlacementStatus  \n",
       "0                   No         61         79       NotPlaced  \n",
       "1                  Yes         78         82          Placed  \n",
       "2                   No         79         80       NotPlaced  \n",
       "3                  Yes         81         80          Placed  \n",
       "4                  Yes         74         88          Placed  \n",
       "...                ...        ...        ...             ...  \n",
       "9995                No         85         66       NotPlaced  \n",
       "9996                No         84         67          Placed  \n",
       "9997               Yes         79         81          Placed  \n",
       "9998               Yes         71         85          Placed  \n",
       "9999                No         62         66       NotPlaced  \n",
       "\n",
       "[10000 rows x 11 columns]"
      ]
     },
     "execution_count": 55,
     "metadata": {},
     "output_type": "execute_result"
    }
   ],
   "source": [
    "data.drop(columns='StudentID', inplace = True)\n",
    "data"
   ]
  },
  {
   "cell_type": "code",
   "execution_count": 56,
   "metadata": {},
   "outputs": [
    {
     "data": {
      "text/html": [
       "<div>\n",
       "<style scoped>\n",
       "    .dataframe tbody tr th:only-of-type {\n",
       "        vertical-align: middle;\n",
       "    }\n",
       "\n",
       "    .dataframe tbody tr th {\n",
       "        vertical-align: top;\n",
       "    }\n",
       "\n",
       "    .dataframe thead th {\n",
       "        text-align: right;\n",
       "    }\n",
       "</style>\n",
       "<table border=\"1\" class=\"dataframe\">\n",
       "  <thead>\n",
       "    <tr style=\"text-align: right;\">\n",
       "      <th></th>\n",
       "      <th>CGPA</th>\n",
       "      <th>Internships</th>\n",
       "      <th>Projects</th>\n",
       "      <th>Workshops/Certifications</th>\n",
       "      <th>AptitudeTestScore</th>\n",
       "      <th>SoftSkillsRating</th>\n",
       "      <th>ExtracurricularActivities</th>\n",
       "      <th>PlacementTraining</th>\n",
       "      <th>SSC_Marks</th>\n",
       "      <th>HSC_Marks</th>\n",
       "      <th>PlacementStatus</th>\n",
       "    </tr>\n",
       "  </thead>\n",
       "  <tbody>\n",
       "    <tr>\n",
       "      <th>0</th>\n",
       "      <td>7.5</td>\n",
       "      <td>1</td>\n",
       "      <td>1</td>\n",
       "      <td>1</td>\n",
       "      <td>65</td>\n",
       "      <td>4.4</td>\n",
       "      <td>No</td>\n",
       "      <td>No</td>\n",
       "      <td>61</td>\n",
       "      <td>79</td>\n",
       "      <td>0</td>\n",
       "    </tr>\n",
       "    <tr>\n",
       "      <th>1</th>\n",
       "      <td>8.9</td>\n",
       "      <td>0</td>\n",
       "      <td>3</td>\n",
       "      <td>2</td>\n",
       "      <td>90</td>\n",
       "      <td>4.0</td>\n",
       "      <td>Yes</td>\n",
       "      <td>Yes</td>\n",
       "      <td>78</td>\n",
       "      <td>82</td>\n",
       "      <td>1</td>\n",
       "    </tr>\n",
       "    <tr>\n",
       "      <th>2</th>\n",
       "      <td>7.3</td>\n",
       "      <td>1</td>\n",
       "      <td>2</td>\n",
       "      <td>2</td>\n",
       "      <td>82</td>\n",
       "      <td>4.8</td>\n",
       "      <td>Yes</td>\n",
       "      <td>No</td>\n",
       "      <td>79</td>\n",
       "      <td>80</td>\n",
       "      <td>0</td>\n",
       "    </tr>\n",
       "    <tr>\n",
       "      <th>3</th>\n",
       "      <td>7.5</td>\n",
       "      <td>1</td>\n",
       "      <td>1</td>\n",
       "      <td>2</td>\n",
       "      <td>85</td>\n",
       "      <td>4.4</td>\n",
       "      <td>Yes</td>\n",
       "      <td>Yes</td>\n",
       "      <td>81</td>\n",
       "      <td>80</td>\n",
       "      <td>1</td>\n",
       "    </tr>\n",
       "    <tr>\n",
       "      <th>4</th>\n",
       "      <td>8.3</td>\n",
       "      <td>1</td>\n",
       "      <td>2</td>\n",
       "      <td>2</td>\n",
       "      <td>86</td>\n",
       "      <td>4.5</td>\n",
       "      <td>Yes</td>\n",
       "      <td>Yes</td>\n",
       "      <td>74</td>\n",
       "      <td>88</td>\n",
       "      <td>1</td>\n",
       "    </tr>\n",
       "    <tr>\n",
       "      <th>...</th>\n",
       "      <td>...</td>\n",
       "      <td>...</td>\n",
       "      <td>...</td>\n",
       "      <td>...</td>\n",
       "      <td>...</td>\n",
       "      <td>...</td>\n",
       "      <td>...</td>\n",
       "      <td>...</td>\n",
       "      <td>...</td>\n",
       "      <td>...</td>\n",
       "      <td>...</td>\n",
       "    </tr>\n",
       "    <tr>\n",
       "      <th>9995</th>\n",
       "      <td>7.5</td>\n",
       "      <td>1</td>\n",
       "      <td>1</td>\n",
       "      <td>2</td>\n",
       "      <td>72</td>\n",
       "      <td>3.9</td>\n",
       "      <td>Yes</td>\n",
       "      <td>No</td>\n",
       "      <td>85</td>\n",
       "      <td>66</td>\n",
       "      <td>0</td>\n",
       "    </tr>\n",
       "    <tr>\n",
       "      <th>9996</th>\n",
       "      <td>7.4</td>\n",
       "      <td>0</td>\n",
       "      <td>1</td>\n",
       "      <td>0</td>\n",
       "      <td>90</td>\n",
       "      <td>4.8</td>\n",
       "      <td>No</td>\n",
       "      <td>No</td>\n",
       "      <td>84</td>\n",
       "      <td>67</td>\n",
       "      <td>1</td>\n",
       "    </tr>\n",
       "    <tr>\n",
       "      <th>9997</th>\n",
       "      <td>8.4</td>\n",
       "      <td>1</td>\n",
       "      <td>3</td>\n",
       "      <td>0</td>\n",
       "      <td>70</td>\n",
       "      <td>4.8</td>\n",
       "      <td>Yes</td>\n",
       "      <td>Yes</td>\n",
       "      <td>79</td>\n",
       "      <td>81</td>\n",
       "      <td>1</td>\n",
       "    </tr>\n",
       "    <tr>\n",
       "      <th>9998</th>\n",
       "      <td>8.9</td>\n",
       "      <td>0</td>\n",
       "      <td>3</td>\n",
       "      <td>2</td>\n",
       "      <td>87</td>\n",
       "      <td>4.8</td>\n",
       "      <td>Yes</td>\n",
       "      <td>Yes</td>\n",
       "      <td>71</td>\n",
       "      <td>85</td>\n",
       "      <td>1</td>\n",
       "    </tr>\n",
       "    <tr>\n",
       "      <th>9999</th>\n",
       "      <td>8.4</td>\n",
       "      <td>0</td>\n",
       "      <td>1</td>\n",
       "      <td>1</td>\n",
       "      <td>66</td>\n",
       "      <td>3.8</td>\n",
       "      <td>No</td>\n",
       "      <td>No</td>\n",
       "      <td>62</td>\n",
       "      <td>66</td>\n",
       "      <td>0</td>\n",
       "    </tr>\n",
       "  </tbody>\n",
       "</table>\n",
       "<p>10000 rows × 11 columns</p>\n",
       "</div>"
      ],
      "text/plain": [
       "      CGPA  Internships  Projects  Workshops/Certifications  \\\n",
       "0      7.5            1         1                         1   \n",
       "1      8.9            0         3                         2   \n",
       "2      7.3            1         2                         2   \n",
       "3      7.5            1         1                         2   \n",
       "4      8.3            1         2                         2   \n",
       "...    ...          ...       ...                       ...   \n",
       "9995   7.5            1         1                         2   \n",
       "9996   7.4            0         1                         0   \n",
       "9997   8.4            1         3                         0   \n",
       "9998   8.9            0         3                         2   \n",
       "9999   8.4            0         1                         1   \n",
       "\n",
       "      AptitudeTestScore  SoftSkillsRating ExtracurricularActivities  \\\n",
       "0                    65               4.4                        No   \n",
       "1                    90               4.0                       Yes   \n",
       "2                    82               4.8                       Yes   \n",
       "3                    85               4.4                       Yes   \n",
       "4                    86               4.5                       Yes   \n",
       "...                 ...               ...                       ...   \n",
       "9995                 72               3.9                       Yes   \n",
       "9996                 90               4.8                        No   \n",
       "9997                 70               4.8                       Yes   \n",
       "9998                 87               4.8                       Yes   \n",
       "9999                 66               3.8                        No   \n",
       "\n",
       "     PlacementTraining  SSC_Marks  HSC_Marks  PlacementStatus  \n",
       "0                   No         61         79                0  \n",
       "1                  Yes         78         82                1  \n",
       "2                   No         79         80                0  \n",
       "3                  Yes         81         80                1  \n",
       "4                  Yes         74         88                1  \n",
       "...                ...        ...        ...              ...  \n",
       "9995                No         85         66                0  \n",
       "9996                No         84         67                1  \n",
       "9997               Yes         79         81                1  \n",
       "9998               Yes         71         85                1  \n",
       "9999                No         62         66                0  \n",
       "\n",
       "[10000 rows x 11 columns]"
      ]
     },
     "execution_count": 56,
     "metadata": {},
     "output_type": "execute_result"
    }
   ],
   "source": [
    "from sklearn.preprocessing import LabelEncoder\n",
    "encoder=LabelEncoder()\n",
    "data['PlacementStatus']=encoder.fit_transform(data['PlacementStatus'])\n",
    "# data['ExtracurricularActivities']=encoder.fit_transform(data['ExtracurricularActivities'])\n",
    "# data['PlacementTraining']=encoder.fit_transform(data['PlacementTraining'])\n",
    "data"
   ]
  },
  {
   "cell_type": "code",
   "execution_count": 57,
   "metadata": {},
   "outputs": [
    {
     "data": {
      "text/html": [
       "<div>\n",
       "<style scoped>\n",
       "    .dataframe tbody tr th:only-of-type {\n",
       "        vertical-align: middle;\n",
       "    }\n",
       "\n",
       "    .dataframe tbody tr th {\n",
       "        vertical-align: top;\n",
       "    }\n",
       "\n",
       "    .dataframe thead th {\n",
       "        text-align: right;\n",
       "    }\n",
       "</style>\n",
       "<table border=\"1\" class=\"dataframe\">\n",
       "  <thead>\n",
       "    <tr style=\"text-align: right;\">\n",
       "      <th></th>\n",
       "      <th>CGPA</th>\n",
       "      <th>Internships</th>\n",
       "      <th>Projects</th>\n",
       "      <th>Workshops/Certifications</th>\n",
       "      <th>AptitudeTestScore</th>\n",
       "      <th>SoftSkillsRating</th>\n",
       "      <th>ExtracurricularActivities</th>\n",
       "      <th>PlacementTraining</th>\n",
       "      <th>SSC_Marks</th>\n",
       "      <th>HSC_Marks</th>\n",
       "    </tr>\n",
       "  </thead>\n",
       "  <tbody>\n",
       "    <tr>\n",
       "      <th>0</th>\n",
       "      <td>7.5</td>\n",
       "      <td>1</td>\n",
       "      <td>1</td>\n",
       "      <td>1</td>\n",
       "      <td>65</td>\n",
       "      <td>4.4</td>\n",
       "      <td>No</td>\n",
       "      <td>No</td>\n",
       "      <td>61</td>\n",
       "      <td>79</td>\n",
       "    </tr>\n",
       "    <tr>\n",
       "      <th>1</th>\n",
       "      <td>8.9</td>\n",
       "      <td>0</td>\n",
       "      <td>3</td>\n",
       "      <td>2</td>\n",
       "      <td>90</td>\n",
       "      <td>4.0</td>\n",
       "      <td>Yes</td>\n",
       "      <td>Yes</td>\n",
       "      <td>78</td>\n",
       "      <td>82</td>\n",
       "    </tr>\n",
       "    <tr>\n",
       "      <th>2</th>\n",
       "      <td>7.3</td>\n",
       "      <td>1</td>\n",
       "      <td>2</td>\n",
       "      <td>2</td>\n",
       "      <td>82</td>\n",
       "      <td>4.8</td>\n",
       "      <td>Yes</td>\n",
       "      <td>No</td>\n",
       "      <td>79</td>\n",
       "      <td>80</td>\n",
       "    </tr>\n",
       "    <tr>\n",
       "      <th>3</th>\n",
       "      <td>7.5</td>\n",
       "      <td>1</td>\n",
       "      <td>1</td>\n",
       "      <td>2</td>\n",
       "      <td>85</td>\n",
       "      <td>4.4</td>\n",
       "      <td>Yes</td>\n",
       "      <td>Yes</td>\n",
       "      <td>81</td>\n",
       "      <td>80</td>\n",
       "    </tr>\n",
       "    <tr>\n",
       "      <th>4</th>\n",
       "      <td>8.3</td>\n",
       "      <td>1</td>\n",
       "      <td>2</td>\n",
       "      <td>2</td>\n",
       "      <td>86</td>\n",
       "      <td>4.5</td>\n",
       "      <td>Yes</td>\n",
       "      <td>Yes</td>\n",
       "      <td>74</td>\n",
       "      <td>88</td>\n",
       "    </tr>\n",
       "    <tr>\n",
       "      <th>...</th>\n",
       "      <td>...</td>\n",
       "      <td>...</td>\n",
       "      <td>...</td>\n",
       "      <td>...</td>\n",
       "      <td>...</td>\n",
       "      <td>...</td>\n",
       "      <td>...</td>\n",
       "      <td>...</td>\n",
       "      <td>...</td>\n",
       "      <td>...</td>\n",
       "    </tr>\n",
       "    <tr>\n",
       "      <th>9995</th>\n",
       "      <td>7.5</td>\n",
       "      <td>1</td>\n",
       "      <td>1</td>\n",
       "      <td>2</td>\n",
       "      <td>72</td>\n",
       "      <td>3.9</td>\n",
       "      <td>Yes</td>\n",
       "      <td>No</td>\n",
       "      <td>85</td>\n",
       "      <td>66</td>\n",
       "    </tr>\n",
       "    <tr>\n",
       "      <th>9996</th>\n",
       "      <td>7.4</td>\n",
       "      <td>0</td>\n",
       "      <td>1</td>\n",
       "      <td>0</td>\n",
       "      <td>90</td>\n",
       "      <td>4.8</td>\n",
       "      <td>No</td>\n",
       "      <td>No</td>\n",
       "      <td>84</td>\n",
       "      <td>67</td>\n",
       "    </tr>\n",
       "    <tr>\n",
       "      <th>9997</th>\n",
       "      <td>8.4</td>\n",
       "      <td>1</td>\n",
       "      <td>3</td>\n",
       "      <td>0</td>\n",
       "      <td>70</td>\n",
       "      <td>4.8</td>\n",
       "      <td>Yes</td>\n",
       "      <td>Yes</td>\n",
       "      <td>79</td>\n",
       "      <td>81</td>\n",
       "    </tr>\n",
       "    <tr>\n",
       "      <th>9998</th>\n",
       "      <td>8.9</td>\n",
       "      <td>0</td>\n",
       "      <td>3</td>\n",
       "      <td>2</td>\n",
       "      <td>87</td>\n",
       "      <td>4.8</td>\n",
       "      <td>Yes</td>\n",
       "      <td>Yes</td>\n",
       "      <td>71</td>\n",
       "      <td>85</td>\n",
       "    </tr>\n",
       "    <tr>\n",
       "      <th>9999</th>\n",
       "      <td>8.4</td>\n",
       "      <td>0</td>\n",
       "      <td>1</td>\n",
       "      <td>1</td>\n",
       "      <td>66</td>\n",
       "      <td>3.8</td>\n",
       "      <td>No</td>\n",
       "      <td>No</td>\n",
       "      <td>62</td>\n",
       "      <td>66</td>\n",
       "    </tr>\n",
       "  </tbody>\n",
       "</table>\n",
       "<p>10000 rows × 10 columns</p>\n",
       "</div>"
      ],
      "text/plain": [
       "      CGPA  Internships  Projects  Workshops/Certifications  \\\n",
       "0      7.5            1         1                         1   \n",
       "1      8.9            0         3                         2   \n",
       "2      7.3            1         2                         2   \n",
       "3      7.5            1         1                         2   \n",
       "4      8.3            1         2                         2   \n",
       "...    ...          ...       ...                       ...   \n",
       "9995   7.5            1         1                         2   \n",
       "9996   7.4            0         1                         0   \n",
       "9997   8.4            1         3                         0   \n",
       "9998   8.9            0         3                         2   \n",
       "9999   8.4            0         1                         1   \n",
       "\n",
       "      AptitudeTestScore  SoftSkillsRating ExtracurricularActivities  \\\n",
       "0                    65               4.4                        No   \n",
       "1                    90               4.0                       Yes   \n",
       "2                    82               4.8                       Yes   \n",
       "3                    85               4.4                       Yes   \n",
       "4                    86               4.5                       Yes   \n",
       "...                 ...               ...                       ...   \n",
       "9995                 72               3.9                       Yes   \n",
       "9996                 90               4.8                        No   \n",
       "9997                 70               4.8                       Yes   \n",
       "9998                 87               4.8                       Yes   \n",
       "9999                 66               3.8                        No   \n",
       "\n",
       "     PlacementTraining  SSC_Marks  HSC_Marks  \n",
       "0                   No         61         79  \n",
       "1                  Yes         78         82  \n",
       "2                   No         79         80  \n",
       "3                  Yes         81         80  \n",
       "4                  Yes         74         88  \n",
       "...                ...        ...        ...  \n",
       "9995                No         85         66  \n",
       "9996                No         84         67  \n",
       "9997               Yes         79         81  \n",
       "9998               Yes         71         85  \n",
       "9999                No         62         66  \n",
       "\n",
       "[10000 rows x 10 columns]"
      ]
     },
     "execution_count": 57,
     "metadata": {},
     "output_type": "execute_result"
    }
   ],
   "source": [
    "x=data.drop(labels=['PlacementStatus'], axis=1)\n",
    "x "
   ]
  },
  {
   "cell_type": "code",
   "execution_count": 58,
   "metadata": {},
   "outputs": [
    {
     "data": {
      "text/plain": [
       "0       0\n",
       "1       1\n",
       "2       0\n",
       "3       1\n",
       "4       1\n",
       "       ..\n",
       "9995    0\n",
       "9996    1\n",
       "9997    1\n",
       "9998    1\n",
       "9999    0\n",
       "Name: PlacementStatus, Length: 10000, dtype: int32"
      ]
     },
     "execution_count": 58,
     "metadata": {},
     "output_type": "execute_result"
    }
   ],
   "source": [
    "y=data.PlacementStatus\n",
    "y "
   ]
  },
  {
   "cell_type": "code",
   "execution_count": 59,
   "metadata": {},
   "outputs": [],
   "source": [
    "numerical_cols=[feature for feature in x.columns if x[feature].dtype!='O']\n",
    "categorical_cols=[feature for feature in x.columns if x[feature].dtype=='O']\n"
   ]
  },
  {
   "cell_type": "code",
   "execution_count": 60,
   "metadata": {},
   "outputs": [
    {
     "data": {
      "text/plain": [
       "['CGPA',\n",
       " 'Internships',\n",
       " 'Projects',\n",
       " 'Workshops/Certifications',\n",
       " 'AptitudeTestScore',\n",
       " 'SoftSkillsRating',\n",
       " 'SSC_Marks',\n",
       " 'HSC_Marks']"
      ]
     },
     "execution_count": 60,
     "metadata": {},
     "output_type": "execute_result"
    }
   ],
   "source": [
    "numerical_cols"
   ]
  },
  {
   "cell_type": "code",
   "execution_count": 61,
   "metadata": {},
   "outputs": [
    {
     "data": {
      "text/plain": [
       "['ExtracurricularActivities', 'PlacementTraining']"
      ]
     },
     "execution_count": 61,
     "metadata": {},
     "output_type": "execute_result"
    }
   ],
   "source": [
    "categorical_cols"
   ]
  },
  {
   "cell_type": "code",
   "execution_count": 62,
   "metadata": {},
   "outputs": [],
   "source": [
    "\n",
    "from sklearn.pipeline import Pipeline\n",
    "from sklearn.impute import SimpleImputer \n",
    "from sklearn.preprocessing import StandardScaler\n",
    "from sklearn.preprocessing import OneHotEncoder\n",
    "from sklearn.compose import ColumnTransformer"
   ]
  },
  {
   "cell_type": "code",
   "execution_count": 63,
   "metadata": {},
   "outputs": [
    {
     "data": {
      "text/plain": [
       "<Axes: >"
      ]
     },
     "execution_count": 63,
     "metadata": {},
     "output_type": "execute_result"
    },
    {
     "data": {
      "image/png": "[encoded data removed]",
      "text/plain": [
       "<Figure size 1500x1000 with 1 Axes>"
      ]
     },
     "metadata": {},
     "output_type": "display_data"
    }
   ],
   "source": [
    "fig, ax = plt.subplots(figsize=(15,10))\n",
    "sns.boxplot(data=x, width= 0.5,ax=ax,  fliersize=3)"
   ]
  },
  {
   "cell_type": "code",
   "execution_count": 64,
   "metadata": {},
   "outputs": [],
   "source": [
    "num_pipeline=Pipeline(\n",
    "    steps=[\n",
    "        ('imputer',SimpleImputer(strategy='median')),\n",
    "        ('scaler',StandardScaler())\n",
    "    ]\n",
    ")\n",
    "cat_pipeline=Pipeline(\n",
    "    steps=[\n",
    "        ('imputer', SimpleImputer(strategy='most_frequent')),\n",
    "        ('onehotencoder', OneHotEncoder())\n",
    "    ]\n",
    ")"
   ]
  },
  {
   "cell_type": "code",
   "execution_count": 66,
   "metadata": {},
   "outputs": [],
   "source": [
    "preprocessor=ColumnTransformer([\n",
    "    ('num_pipeline', num_pipeline, numerical_cols),\n",
    "    ('cat_pipeline', cat_pipeline, categorical_cols)\n",
    "])"
   ]
  },
  {
   "cell_type": "code",
   "execution_count": null,
   "metadata": {},
   "outputs": [],
   "source": []
  },
  {
   "cell_type": "code",
   "execution_count": 67,
   "metadata": {},
   "outputs": [],
   "source": [
    "from sklearn.model_selection import train_test_split\n",
    "x_train, x_test, y_train, y_test=train_test_split(x, y, test_size=0.2, random_state=42)"
   ]
  },
  {
   "cell_type": "code",
   "execution_count": 68,
   "metadata": {},
   "outputs": [
    {
     "data": {
      "text/plain": [
       "(8000, 10)"
      ]
     },
     "execution_count": 68,
     "metadata": {},
     "output_type": "execute_result"
    }
   ],
   "source": [
    "x_train.shape"
   ]
  },
  {
   "cell_type": "code",
   "execution_count": 69,
   "metadata": {},
   "outputs": [
    {
     "data": {
      "text/plain": [
       "(2000, 10)"
      ]
     },
     "execution_count": 69,
     "metadata": {},
     "output_type": "execute_result"
    }
   ],
   "source": [
    "x_test.shape"
   ]
  },
  {
   "cell_type": "code",
   "execution_count": 70,
   "metadata": {},
   "outputs": [],
   "source": [
    "x_train=preprocessor.fit_transform(x_train)\n",
    "x_test=preprocessor.transform(x_test)"
   ]
  },
  {
   "cell_type": "code",
   "execution_count": 71,
   "metadata": {},
   "outputs": [
    {
     "data": {
      "text/plain": [
       "<Axes: >"
      ]
     },
     "execution_count": 71,
     "metadata": {},
     "output_type": "execute_result"
    },
    {
     "data": {
      "image/png": "[encoded data removed]",
      "text/plain": [
       "<Figure size 1500x1000 with 1 Axes>"
      ]
     },
     "metadata": {},
     "output_type": "display_data"
    }
   ],
   "source": [
    "fig, ax = plt.subplots(figsize=(15,10))\n",
    "sns.boxplot(data=x_train , width= 0.5,ax=ax,  fliersize=3)"
   ]
  },
  {
   "cell_type": "code",
   "execution_count": 74,
   "metadata": {},
   "outputs": [],
   "source": [
    "from sklearn.ensemble import RandomForestClassifier\n",
    "from sklearn.metrics import accuracy_score\n",
    "from sklearn.linear_model import LogisticRegression\n",
    "from sklearn.tree import DecisionTreeClassifier\n",
    "from sklearn.model_selection import RandomizedSearchCV\n",
    "from sklearn.svm import SVC\n",
    "from sklearn.neighbors import KNeighborsClassifier\n",
    "models={\n",
    "    'logistic_regression':LogisticRegression(),\n",
    "    'support_vector':SVC(),\n",
    "    'random_forest':RandomForestClassifier(),\n",
    "    'decision_tree':DecisionTreeClassifier(),\n",
    "    'KNN':KNeighborsClassifier()\n",
    "}"
   ]
  },
  {
   "cell_type": "code",
   "execution_count": 75,
   "metadata": {},
   "outputs": [],
   "source": [
    "def evaluate_model(x_train, y_train, x_test, y_test, models):\n",
    "    report={}\n",
    "    for i in range(len(models)):\n",
    "        model=list(models.values())[i]\n",
    "        model.fit(x_train, y_train)\n",
    "        y_pred=model.predict(x_test)\n",
    "        test_model_score=accuracy_score(y_test, y_pred)\n",
    "        report[list(models.keys())[i]]=test_model_score\n",
    "    return report "
   ]
  },
  {
   "cell_type": "code",
   "execution_count": 76,
   "metadata": {},
   "outputs": [
    {
     "data": {
      "text/plain": [
       "{'logistic_regression': 0.7945,\n",
       " 'support_vector': 0.7945,\n",
       " 'random_forest': 0.7825,\n",
       " 'decision_tree': 0.7265,\n",
       " 'KNN': 0.7705}"
      ]
     },
     "execution_count": 76,
     "metadata": {},
     "output_type": "execute_result"
    }
   ],
   "source": [
    "evaluate_model(x_train, y_train, x_test, y_test, models)"
   ]
  },
  {
   "cell_type": "code",
   "execution_count": 77,
   "metadata": {},
   "outputs": [],
   "source": [
    "from sklearn.metrics import classification_report, confusion_matrix\n",
    "clf=SVC(kernel='linear')\n",
    "param={'C':[0.1, 1, 10, 100, 1000],\n",
    "       'gamma':[1,0.1,0.01,0.001,0.0001],\n",
    "       'kernel':['linear']\n",
    "       }"
   ]
  },
  {
   "cell_type": "code",
   "execution_count": 78,
   "metadata": {},
   "outputs": [
    {
     "name": "stdout",
     "output_type": "stream",
     "text": [
      "Fitting 5 folds for each of 10 candidates, totalling 50 fits\n",
      "[CV 1/5] END C=0.1, gamma=0.0001, kernel=linear;, score=0.782 total time=   0.8s\n",
      "[CV 2/5] END C=0.1, gamma=0.0001, kernel=linear;, score=0.801 total time=   0.8s\n",
      "[CV 3/5] END C=0.1, gamma=0.0001, kernel=linear;, score=0.785 total time=   0.6s\n",
      "[CV 4/5] END C=0.1, gamma=0.0001, kernel=linear;, score=0.823 total time=   0.6s\n",
      "[CV 5/5] END C=0.1, gamma=0.0001, kernel=linear;, score=0.810 total time=   0.6s\n",
      "[CV 1/5] END ...C=0.1, gamma=0.1, kernel=linear;, score=0.782 total time=   0.6s\n",
      "[CV 2/5] END ...C=0.1, gamma=0.1, kernel=linear;, score=0.801 total time=   0.6s\n",
      "[CV 3/5] END ...C=0.1, gamma=0.1, kernel=linear;, score=0.785 total time=   0.8s\n",
      "[CV 4/5] END ...C=0.1, gamma=0.1, kernel=linear;, score=0.823 total time=   0.9s\n",
      "[CV 5/5] END ...C=0.1, gamma=0.1, kernel=linear;, score=0.810 total time=   0.7s\n",
      "[CV 1/5] END ..C=1000, gamma=0.1, kernel=linear;, score=0.782 total time= 1.8min\n",
      "[CV 2/5] END ..C=1000, gamma=0.1, kernel=linear;, score=0.801 total time= 1.7min\n",
      "[CV 3/5] END ..C=1000, gamma=0.1, kernel=linear;, score=0.786 total time= 1.8min\n",
      "[CV 4/5] END ..C=1000, gamma=0.1, kernel=linear;, score=0.821 total time= 1.8min\n",
      "[CV 5/5] END ..C=1000, gamma=0.1, kernel=linear;, score=0.811 total time= 1.6min\n",
      "[CV 1/5] END .....C=1, gamma=0.1, kernel=linear;, score=0.781 total time=   0.9s\n",
      "[CV 2/5] END .....C=1, gamma=0.1, kernel=linear;, score=0.801 total time=   1.0s\n",
      "[CV 3/5] END .....C=1, gamma=0.1, kernel=linear;, score=0.787 total time=   1.0s\n",
      "[CV 4/5] END .....C=1, gamma=0.1, kernel=linear;, score=0.821 total time=   1.0s\n",
      "[CV 5/5] END .....C=1, gamma=0.1, kernel=linear;, score=0.810 total time=   1.0s\n",
      "[CV 1/5] END ....C=10, gamma=0.1, kernel=linear;, score=0.781 total time=   2.5s\n",
      "[CV 2/5] END ....C=10, gamma=0.1, kernel=linear;, score=0.801 total time=   2.5s\n",
      "[CV 3/5] END ....C=10, gamma=0.1, kernel=linear;, score=0.786 total time=   2.5s\n",
      "[CV 4/5] END ....C=10, gamma=0.1, kernel=linear;, score=0.821 total time=   3.3s\n",
      "[CV 5/5] END ....C=10, gamma=0.1, kernel=linear;, score=0.810 total time=   2.7s\n",
      "[CV 1/5] END ....C=1000, gamma=1, kernel=linear;, score=0.782 total time= 1.8min\n",
      "[CV 2/5] END ....C=1000, gamma=1, kernel=linear;, score=0.801 total time= 1.7min\n",
      "[CV 3/5] END ....C=1000, gamma=1, kernel=linear;, score=0.786 total time= 1.7min\n",
      "[CV 4/5] END ....C=1000, gamma=1, kernel=linear;, score=0.821 total time= 1.8min\n",
      "[CV 5/5] END ....C=1000, gamma=1, kernel=linear;, score=0.811 total time= 1.7min\n",
      "[CV 1/5] END ..C=100, gamma=0.01, kernel=linear;, score=0.781 total time=  14.2s\n",
      "[CV 2/5] END ..C=100, gamma=0.01, kernel=linear;, score=0.801 total time=  19.2s\n",
      "[CV 3/5] END ..C=100, gamma=0.01, kernel=linear;, score=0.786 total time=  19.4s\n",
      "[CV 4/5] END ..C=100, gamma=0.01, kernel=linear;, score=0.821 total time=  33.7s\n",
      "[CV 5/5] END ..C=100, gamma=0.01, kernel=linear;, score=0.811 total time=  27.9s\n",
      "[CV 1/5] END .......C=1, gamma=1, kernel=linear;, score=0.781 total time=   1.8s\n",
      "[CV 2/5] END .......C=1, gamma=1, kernel=linear;, score=0.801 total time=   2.1s\n",
      "[CV 3/5] END .......C=1, gamma=1, kernel=linear;, score=0.787 total time=   2.0s\n",
      "[CV 4/5] END .......C=1, gamma=1, kernel=linear;, score=0.821 total time=   1.5s\n",
      "[CV 5/5] END .......C=1, gamma=1, kernel=linear;, score=0.810 total time=   1.5s\n",
      "[CV 1/5] END ...C=10, gamma=0.01, kernel=linear;, score=0.781 total time=   4.8s\n",
      "[CV 2/5] END ...C=10, gamma=0.01, kernel=linear;, score=0.801 total time=   4.3s\n",
      "[CV 3/5] END ...C=10, gamma=0.01, kernel=linear;, score=0.786 total time=   4.2s\n",
      "[CV 4/5] END ...C=10, gamma=0.01, kernel=linear;, score=0.821 total time=   4.9s\n",
      "[CV 5/5] END ...C=10, gamma=0.01, kernel=linear;, score=0.810 total time=   4.6s\n",
      "[CV 1/5] END ..C=0.1, gamma=0.01, kernel=linear;, score=0.782 total time=   1.2s\n",
      "[CV 2/5] END ..C=0.1, gamma=0.01, kernel=linear;, score=0.801 total time=   1.2s\n",
      "[CV 3/5] END ..C=0.1, gamma=0.01, kernel=linear;, score=0.785 total time=   1.3s\n",
      "[CV 4/5] END ..C=0.1, gamma=0.01, kernel=linear;, score=0.823 total time=   1.5s\n",
      "[CV 5/5] END ..C=0.1, gamma=0.01, kernel=linear;, score=0.810 total time=   1.5s\n"
     ]
    },
    {
     "data": {
      "text/html": [
       "<style>#sk-container-id-1 {color: black;background-color: white;}#sk-container-id-1 pre{padding: 0;}#sk-container-id-1 div.sk-toggleable {background-color: white;}#sk-container-id-1 label.sk-toggleable__label {cursor: pointer;display: block;width: 100%;margin-bottom: 0;padding: 0.3em;box-sizing: border-box;text-align: center;}#sk-container-id-1 label.sk-toggleable__label-arrow:before {content: \"▸\";float: left;margin-right: 0.25em;color: #696969;}#sk-container-id-1 label.sk-toggleable__label-arrow:hover:before {color: black;}#sk-container-id-1 div.sk-estimator:hover label.sk-toggleable__label-arrow:before {color: black;}#sk-container-id-1 div.sk-toggleable__content {max-height: 0;max-width: 0;overflow: hidden;text-align: left;background-color: #f0f8ff;}#sk-container-id-1 div.sk-toggleable__content pre {margin: 0.2em;color: black;border-radius: 0.25em;background-color: #f0f8ff;}#sk-container-id-1 input.sk-toggleable__control:checked~div.sk-toggleable__content {max-height: 200px;max-width: 100%;overflow: auto;}#sk-container-id-1 input.sk-toggleable__control:checked~label.sk-toggleable__label-arrow:before {content: \"▾\";}#sk-container-id-1 div.sk-estimator input.sk-toggleable__control:checked~label.sk-toggleable__label {background-color: #d4ebff;}#sk-container-id-1 div.sk-label input.sk-toggleable__control:checked~label.sk-toggleable__label {background-color: #d4ebff;}#sk-container-id-1 input.sk-hidden--visually {border: 0;clip: rect(1px 1px 1px 1px);clip: rect(1px, 1px, 1px, 1px);height: 1px;margin: -1px;overflow: hidden;padding: 0;position: absolute;width: 1px;}#sk-container-id-1 div.sk-estimator {font-family: monospace;background-color: #f0f8ff;border: 1px dotted black;border-radius: 0.25em;box-sizing: border-box;margin-bottom: 0.5em;}#sk-container-id-1 div.sk-estimator:hover {background-color: #d4ebff;}#sk-container-id-1 div.sk-parallel-item::after {content: \"\";width: 100%;border-bottom: 1px solid gray;flex-grow: 1;}#sk-container-id-1 div.sk-label:hover label.sk-toggleable__label {background-color: #d4ebff;}#sk-container-id-1 div.sk-serial::before {content: \"\";position: absolute;border-left: 1px solid gray;box-sizing: border-box;top: 0;bottom: 0;left: 50%;z-index: 0;}#sk-container-id-1 div.sk-serial {display: flex;flex-direction: column;align-items: center;background-color: white;padding-right: 0.2em;padding-left: 0.2em;position: relative;}#sk-container-id-1 div.sk-item {position: relative;z-index: 1;}#sk-container-id-1 div.sk-parallel {display: flex;align-items: stretch;justify-content: center;background-color: white;position: relative;}#sk-container-id-1 div.sk-item::before, #sk-container-id-1 div.sk-parallel-item::before {content: \"\";position: absolute;border-left: 1px solid gray;box-sizing: border-box;top: 0;bottom: 0;left: 50%;z-index: -1;}#sk-container-id-1 div.sk-parallel-item {display: flex;flex-direction: column;z-index: 1;position: relative;background-color: white;}#sk-container-id-1 div.sk-parallel-item:first-child::after {align-self: flex-end;width: 50%;}#sk-container-id-1 div.sk-parallel-item:last-child::after {align-self: flex-start;width: 50%;}#sk-container-id-1 div.sk-parallel-item:only-child::after {width: 0;}#sk-container-id-1 div.sk-dashed-wrapped {border: 1px dashed gray;margin: 0 0.4em 0.5em 0.4em;box-sizing: border-box;padding-bottom: 0.4em;background-color: white;}#sk-container-id-1 div.sk-label label {font-family: monospace;font-weight: bold;display: inline-block;line-height: 1.2em;}#sk-container-id-1 div.sk-label-container {text-align: center;}#sk-container-id-1 div.sk-container {/* jupyter's `normalize.less` sets `[hidden] { display: none; }` but bootstrap.min.css set `[hidden] { display: none !important; }` so we also need the `!important` here to be able to override the default hidden behavior on the sphinx rendered scikit-learn.org. See: https://github.com/scikit-learn/scikit-learn/issues/21755 */display: inline-block !important;position: relative;}#sk-container-id-1 div.sk-text-repr-fallback {display: none;}</style><div id=\"sk-container-id-1\" class=\"sk-top-container\"><div class=\"sk-text-repr-fallback\"><pre>RandomizedSearchCV(cv=5, estimator=SVC(kernel=&#x27;linear&#x27;),\n",
       "                   param_distributions={&#x27;C&#x27;: [0.1, 1, 10, 100, 1000],\n",
       "                                        &#x27;gamma&#x27;: [1, 0.1, 0.01, 0.001, 0.0001],\n",
       "                                        &#x27;kernel&#x27;: [&#x27;linear&#x27;]},\n",
       "                   scoring=&#x27;accuracy&#x27;, verbose=3)</pre><b>In a Jupyter environment, please rerun this cell to show the HTML representation or trust the notebook. <br />On GitHub, the HTML representation is unable to render, please try loading this page with nbviewer.org.</b></div><div class=\"sk-container\" hidden><div class=\"sk-item sk-dashed-wrapped\"><div class=\"sk-label-container\"><div class=\"sk-label sk-toggleable\"><input class=\"sk-toggleable__control sk-hidden--visually\" id=\"sk-estimator-id-1\" type=\"checkbox\" ><label for=\"sk-estimator-id-1\" class=\"sk-toggleable__label sk-toggleable__label-arrow\">RandomizedSearchCV</label><div class=\"sk-toggleable__content\"><pre>RandomizedSearchCV(cv=5, estimator=SVC(kernel=&#x27;linear&#x27;),\n",
       "                   param_distributions={&#x27;C&#x27;: [0.1, 1, 10, 100, 1000],\n",
       "                                        &#x27;gamma&#x27;: [1, 0.1, 0.01, 0.001, 0.0001],\n",
       "                                        &#x27;kernel&#x27;: [&#x27;linear&#x27;]},\n",
       "                   scoring=&#x27;accuracy&#x27;, verbose=3)</pre></div></div></div><div class=\"sk-parallel\"><div class=\"sk-parallel-item\"><div class=\"sk-item\"><div class=\"sk-label-container\"><div class=\"sk-label sk-toggleable\"><input class=\"sk-toggleable__control sk-hidden--visually\" id=\"sk-estimator-id-2\" type=\"checkbox\" ><label for=\"sk-estimator-id-2\" class=\"sk-toggleable__label sk-toggleable__label-arrow\">estimator: SVC</label><div class=\"sk-toggleable__content\"><pre>SVC(kernel=&#x27;linear&#x27;)</pre></div></div></div><div class=\"sk-serial\"><div class=\"sk-item\"><div class=\"sk-estimator sk-toggleable\"><input class=\"sk-toggleable__control sk-hidden--visually\" id=\"sk-estimator-id-3\" type=\"checkbox\" ><label for=\"sk-estimator-id-3\" class=\"sk-toggleable__label sk-toggleable__label-arrow\">SVC</label><div class=\"sk-toggleable__content\"><pre>SVC(kernel=&#x27;linear&#x27;)</pre></div></div></div></div></div></div></div></div></div></div>"
      ],
      "text/plain": [
       "RandomizedSearchCV(cv=5, estimator=SVC(kernel='linear'),\n",
       "                   param_distributions={'C': [0.1, 1, 10, 100, 1000],\n",
       "                                        'gamma': [1, 0.1, 0.01, 0.001, 0.0001],\n",
       "                                        'kernel': ['linear']},\n",
       "                   scoring='accuracy', verbose=3)"
      ]
     },
     "execution_count": 78,
     "metadata": {},
     "output_type": "execute_result"
    }
   ],
   "source": [
    "cv=RandomizedSearchCV(clf, param_distributions=param, scoring='accuracy', cv=5, verbose=3)\n",
    "cv.fit(x_train, y_train)\n"
   ]
  },
  {
   "cell_type": "code",
   "execution_count": 79,
   "metadata": {},
   "outputs": [
    {
     "data": {
      "text/plain": [
       "{'kernel': 'linear', 'gamma': 0.1, 'C': 1000}"
      ]
     },
     "execution_count": 79,
     "metadata": {},
     "output_type": "execute_result"
    }
   ],
   "source": [
    "cv.best_params_"
   ]
  },
  {
   "cell_type": "code",
   "execution_count": 80,
   "metadata": {},
   "outputs": [],
   "source": [
    "y_predi=cv.predict(x_test)"
   ]
  },
  {
   "cell_type": "code",
   "execution_count": 81,
   "metadata": {},
   "outputs": [
    {
     "data": {
      "text/plain": [
       "0.795"
      ]
     },
     "execution_count": 81,
     "metadata": {},
     "output_type": "execute_result"
    }
   ],
   "source": [
    "accuracy_score(y_test, y_predi)"
   ]
  },
  {
   "cell_type": "code",
   "execution_count": 82,
   "metadata": {},
   "outputs": [
    {
     "data": {
      "text/plain": [
       "array([[952, 220],\n",
       "       [190, 638]], dtype=int64)"
      ]
     },
     "execution_count": 82,
     "metadata": {},
     "output_type": "execute_result"
    }
   ],
   "source": [
    "confusion_matrix(y_test, y_predi)"
   ]
  },
  {
   "cell_type": "code",
   "execution_count": 84,
   "metadata": {},
   "outputs": [
    {
     "data": {
      "text/plain": [
       "'              precision    recall  f1-score   support\\n\\n           0       0.83      0.81      0.82      1172\\n           1       0.74      0.77      0.76       828\\n\\n    accuracy                           0.80      2000\\n   macro avg       0.79      0.79      0.79      2000\\nweighted avg       0.80      0.80      0.80      2000\\n'"
      ]
     },
     "execution_count": 84,
     "metadata": {},
     "output_type": "execute_result"
    }
   ],
   "source": [
    "classification_report(y_test, y_predi)"
   ]
  },
  {
   "cell_type": "code",
   "execution_count": null,
   "metadata": {},
   "outputs": [],
   "source": []
  }
 ],
 "metadata": {
  "kernelspec": {
   "display_name": "base",
   "language": "python",
   "name": "python3"
  },
  "language_info": {
   "codemirror_mode": {
    "name": "ipython",
    "version": 3
   },
   "file_extension": ".py",
   "mimetype": "text/x-python",
   "name": "python",
   "nbconvert_exporter": "python",
   "pygments_lexer": "ipython3",
   "version": "3.11.3"
  }
 },
 "nbformat": 4,
 "nbformat_minor": 2
}
