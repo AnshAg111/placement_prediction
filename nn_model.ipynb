{
  "nbformat": 4,
  "nbformat_minor": 0,
  "metadata": {
    "colab": {
      "provenance": []
    },
    "kernelspec": {
      "name": "python3",
      "display_name": "Python 3"
    },
    "language_info": {
      "name": "python"
    }
  },
  "cells": [
    {
      "cell_type": "code",
      "execution_count": 38,
      "metadata": {
        "id": "L6SjRGxjd67Z"
      },
      "outputs": [],
      "source": [
        "import pandas as pd\n",
        "import numpy as np\n",
        "from tensorflow import keras\n",
        "import tensorflow as tf\n",
        "from sklearn.preprocessing import LabelEncoder\n",
        "from sklearn.pipeline import Pipeline\n",
        "from sklearn.impute import SimpleImputer\n",
        "from sklearn.preprocessing import StandardScaler\n",
        "from sklearn.preprocessing import OneHotEncoder\n",
        "from sklearn.compose import ColumnTransformer\n",
        "from sklearn.model_selection import train_test_split\n",
        "import matplotlib.pyplot as plt"
      ]
    },
    {
      "cell_type": "code",
      "source": [
        "from google.colab import drive\n",
        "drive.mount('/content/drive')"
      ],
      "metadata": {
        "colab": {
          "base_uri": "https://localhost:8080/"
        },
        "id": "CJ8QoyjY8A7D",
        "outputId": "01a47ea7-d139-4505-82c5-eb4700880012"
      },
      "execution_count": 39,
      "outputs": [
        {
          "output_type": "stream",
          "name": "stdout",
          "text": [
            "Drive already mounted at /content/drive; to attempt to forcibly remount, call drive.mount(\"/content/drive\", force_remount=True).\n"
          ]
        }
      ]
    },
    {
      "cell_type": "code",
      "source": [
        "df = pd.read_csv(\"/content/drive/MyDrive/IIIT sonepat /placedata v2.0 synthetic.csv\")"
      ],
      "metadata": {
        "id": "QRjCK9dWe7vc"
      },
      "execution_count": 40,
      "outputs": []
    },
    {
      "cell_type": "code",
      "source": [
        "df.drop(columns='StudentID', inplace=True)"
      ],
      "metadata": {
        "id": "NQenwXhS1B-y"
      },
      "execution_count": 41,
      "outputs": []
    },
    {
      "cell_type": "code",
      "source": [
        "numerical_cols = [feature for feature in df.columns if df[feature].dtype != 'O']"
      ],
      "metadata": {
        "id": "bPUtM7Pk0Xmw"
      },
      "execution_count": 42,
      "outputs": []
    },
    {
      "cell_type": "code",
      "source": [
        "df.replace({\"NotPlaced\":0.0, \"Placed\" :1.0}, inplace = True)\n",
        "categorical_cols = [feature for feature in df.columns if df[feature].dtype == 'O']\n",
        "df.replace({\"Yes\":0, \"No\" :1}, inplace = True)\n",
        "print(categorical_cols)\n",
        "print(numerical_cols)"
      ],
      "metadata": {
        "colab": {
          "base_uri": "https://localhost:8080/"
        },
        "id": "KFsF89jLStsd",
        "outputId": "2199c8c3-6873-49d7-cbe5-ee8713278b3d"
      },
      "execution_count": 43,
      "outputs": [
        {
          "output_type": "stream",
          "name": "stdout",
          "text": [
            "['ExtracurricularActivities', 'PlacementTraining']\n",
            "['CGPA', 'Internships', 'Projects', 'Workshops/Certifications', 'AptitudeTestScore', 'SoftSkillsRating', 'SSC_Marks', 'HSC_Marks']\n"
          ]
        }
      ]
    },
    {
      "cell_type": "code",
      "source": [
        "df.head(5)"
      ],
      "metadata": {
        "colab": {
          "base_uri": "https://localhost:8080/",
          "height": 226
        },
        "id": "bF90_sPIfEFv",
        "outputId": "25c2c569-7c6c-43f6-c449-5d3b2de18fc6"
      },
      "execution_count": 44,
      "outputs": [
        {
          "output_type": "execute_result",
          "data": {
            "text/plain": [
              "   CGPA  Internships  Projects  Workshops/Certifications  AptitudeTestScore  \\\n",
              "0   7.5            1         1                         1                 65   \n",
              "1   8.9            0         3                         2                 90   \n",
              "2   7.3            1         2                         2                 82   \n",
              "3   7.5            1         1                         2                 85   \n",
              "4   8.3            1         2                         2                 86   \n",
              "\n",
              "   SoftSkillsRating  ExtracurricularActivities  PlacementTraining  SSC_Marks  \\\n",
              "0               4.4                          1                  1         61   \n",
              "1               4.0                          0                  0         78   \n",
              "2               4.8                          0                  1         79   \n",
              "3               4.4                          0                  0         81   \n",
              "4               4.5                          0                  0         74   \n",
              "\n",
              "   HSC_Marks  PlacementStatus  \n",
              "0         79              0.0  \n",
              "1         82              1.0  \n",
              "2         80              0.0  \n",
              "3         80              1.0  \n",
              "4         88              1.0  "
            ],
            "text/html": [
              "\n",
              "  <div id=\"df-2fef08fa-0c52-4429-ada6-0169944c9304\" class=\"colab-df-container\">\n",
              "    <div>\n",
              "<style scoped>\n",
              "    .dataframe tbody tr th:only-of-type {\n",
              "        vertical-align: middle;\n",
              "    }\n",
              "\n",
              "    .dataframe tbody tr th {\n",
              "        vertical-align: top;\n",
              "    }\n",
              "\n",
              "    .dataframe thead th {\n",
              "        text-align: right;\n",
              "    }\n",
              "</style>\n",
              "<table border=\"1\" class=\"dataframe\">\n",
              "  <thead>\n",
              "    <tr style=\"text-align: right;\">\n",
              "      <th></th>\n",
              "      <th>CGPA</th>\n",
              "      <th>Internships</th>\n",
              "      <th>Projects</th>\n",
              "      <th>Workshops/Certifications</th>\n",
              "      <th>AptitudeTestScore</th>\n",
              "      <th>SoftSkillsRating</th>\n",
              "      <th>ExtracurricularActivities</th>\n",
              "      <th>PlacementTraining</th>\n",
              "      <th>SSC_Marks</th>\n",
              "      <th>HSC_Marks</th>\n",
              "      <th>PlacementStatus</th>\n",
              "    </tr>\n",
              "  </thead>\n",
              "  <tbody>\n",
              "    <tr>\n",
              "      <th>0</th>\n",
              "      <td>7.5</td>\n",
              "      <td>1</td>\n",
              "      <td>1</td>\n",
              "      <td>1</td>\n",
              "      <td>65</td>\n",
              "      <td>4.4</td>\n",
              "      <td>1</td>\n",
              "      <td>1</td>\n",
              "      <td>61</td>\n",
              "      <td>79</td>\n",
              "      <td>0.0</td>\n",
              "    </tr>\n",
              "    <tr>\n",
              "      <th>1</th>\n",
              "      <td>8.9</td>\n",
              "      <td>0</td>\n",
              "      <td>3</td>\n",
              "      <td>2</td>\n",
              "      <td>90</td>\n",
              "      <td>4.0</td>\n",
              "      <td>0</td>\n",
              "      <td>0</td>\n",
              "      <td>78</td>\n",
              "      <td>82</td>\n",
              "      <td>1.0</td>\n",
              "    </tr>\n",
              "    <tr>\n",
              "      <th>2</th>\n",
              "      <td>7.3</td>\n",
              "      <td>1</td>\n",
              "      <td>2</td>\n",
              "      <td>2</td>\n",
              "      <td>82</td>\n",
              "      <td>4.8</td>\n",
              "      <td>0</td>\n",
              "      <td>1</td>\n",
              "      <td>79</td>\n",
              "      <td>80</td>\n",
              "      <td>0.0</td>\n",
              "    </tr>\n",
              "    <tr>\n",
              "      <th>3</th>\n",
              "      <td>7.5</td>\n",
              "      <td>1</td>\n",
              "      <td>1</td>\n",
              "      <td>2</td>\n",
              "      <td>85</td>\n",
              "      <td>4.4</td>\n",
              "      <td>0</td>\n",
              "      <td>0</td>\n",
              "      <td>81</td>\n",
              "      <td>80</td>\n",
              "      <td>1.0</td>\n",
              "    </tr>\n",
              "    <tr>\n",
              "      <th>4</th>\n",
              "      <td>8.3</td>\n",
              "      <td>1</td>\n",
              "      <td>2</td>\n",
              "      <td>2</td>\n",
              "      <td>86</td>\n",
              "      <td>4.5</td>\n",
              "      <td>0</td>\n",
              "      <td>0</td>\n",
              "      <td>74</td>\n",
              "      <td>88</td>\n",
              "      <td>1.0</td>\n",
              "    </tr>\n",
              "  </tbody>\n",
              "</table>\n",
              "</div>\n",
              "    <div class=\"colab-df-buttons\">\n",
              "\n",
              "  <div class=\"colab-df-container\">\n",
              "    <button class=\"colab-df-convert\" onclick=\"convertToInteractive('df-2fef08fa-0c52-4429-ada6-0169944c9304')\"\n",
              "            title=\"Convert this dataframe to an interactive table.\"\n",
              "            style=\"display:none;\">\n",
              "\n",
              "  <svg xmlns=\"http://www.w3.org/2000/svg\" height=\"24px\" viewBox=\"0 -960 960 960\">\n",
              "    <path d=\"M120-120v-720h720v720H120Zm60-500h600v-160H180v160Zm220 220h160v-160H400v160Zm0 220h160v-160H400v160ZM180-400h160v-160H180v160Zm440 0h160v-160H620v160ZM180-180h160v-160H180v160Zm440 0h160v-160H620v160Z\"/>\n",
              "  </svg>\n",
              "    </button>\n",
              "\n",
              "  <style>\n",
              "    .colab-df-container {\n",
              "      display:flex;\n",
              "      gap: 12px;\n",
              "    }\n",
              "\n",
              "    .colab-df-convert {\n",
              "      background-color: #E8F0FE;\n",
              "      border: none;\n",
              "      border-radius: 50%;\n",
              "      cursor: pointer;\n",
              "      display: none;\n",
              "      fill: #1967D2;\n",
              "      height: 32px;\n",
              "      padding: 0 0 0 0;\n",
              "      width: 32px;\n",
              "    }\n",
              "\n",
              "    .colab-df-convert:hover {\n",
              "      background-color: #E2EBFA;\n",
              "      box-shadow: 0px 1px 2px rgba(60, 64, 67, 0.3), 0px 1px 3px 1px rgba(60, 64, 67, 0.15);\n",
              "      fill: #174EA6;\n",
              "    }\n",
              "\n",
              "    .colab-df-buttons div {\n",
              "      margin-bottom: 4px;\n",
              "    }\n",
              "\n",
              "    [theme=dark] .colab-df-convert {\n",
              "      background-color: #3B4455;\n",
              "      fill: #D2E3FC;\n",
              "    }\n",
              "\n",
              "    [theme=dark] .colab-df-convert:hover {\n",
              "      background-color: #434B5C;\n",
              "      box-shadow: 0px 1px 3px 1px rgba(0, 0, 0, 0.15);\n",
              "      filter: drop-shadow(0px 1px 2px rgba(0, 0, 0, 0.3));\n",
              "      fill: #FFFFFF;\n",
              "    }\n",
              "  </style>\n",
              "\n",
              "    <script>\n",
              "      const buttonEl =\n",
              "        document.querySelector('#df-2fef08fa-0c52-4429-ada6-0169944c9304 button.colab-df-convert');\n",
              "      buttonEl.style.display =\n",
              "        google.colab.kernel.accessAllowed ? 'block' : 'none';\n",
              "\n",
              "      async function convertToInteractive(key) {\n",
              "        const element = document.querySelector('#df-2fef08fa-0c52-4429-ada6-0169944c9304');\n",
              "        const dataTable =\n",
              "          await google.colab.kernel.invokeFunction('convertToInteractive',\n",
              "                                                    [key], {});\n",
              "        if (!dataTable) return;\n",
              "\n",
              "        const docLinkHtml = 'Like what you see? Visit the ' +\n",
              "          '<a target=\"_blank\" href=https://colab.research.google.com/notebooks/data_table.ipynb>data table notebook</a>'\n",
              "          + ' to learn more about interactive tables.';\n",
              "        element.innerHTML = '';\n",
              "        dataTable['output_type'] = 'display_data';\n",
              "        await google.colab.output.renderOutput(dataTable, element);\n",
              "        const docLink = document.createElement('div');\n",
              "        docLink.innerHTML = docLinkHtml;\n",
              "        element.appendChild(docLink);\n",
              "      }\n",
              "    </script>\n",
              "  </div>\n",
              "\n",
              "\n",
              "<div id=\"df-a4aa4e5c-51c7-4d09-b3b4-733bca955eaf\">\n",
              "  <button class=\"colab-df-quickchart\" onclick=\"quickchart('df-a4aa4e5c-51c7-4d09-b3b4-733bca955eaf')\"\n",
              "            title=\"Suggest charts.\"\n",
              "            style=\"display:none;\">\n",
              "\n",
              "<svg xmlns=\"http://www.w3.org/2000/svg\" height=\"24px\"viewBox=\"0 0 24 24\"\n",
              "     width=\"24px\">\n",
              "    <g>\n",
              "        <path d=\"M19 3H5c-1.1 0-2 .9-2 2v14c0 1.1.9 2 2 2h14c1.1 0 2-.9 2-2V5c0-1.1-.9-2-2-2zM9 17H7v-7h2v7zm4 0h-2V7h2v10zm4 0h-2v-4h2v4z\"/>\n",
              "    </g>\n",
              "</svg>\n",
              "  </button>\n",
              "\n",
              "<style>\n",
              "  .colab-df-quickchart {\n",
              "      --bg-color: #E8F0FE;\n",
              "      --fill-color: #1967D2;\n",
              "      --hover-bg-color: #E2EBFA;\n",
              "      --hover-fill-color: #174EA6;\n",
              "      --disabled-fill-color: #AAA;\n",
              "      --disabled-bg-color: #DDD;\n",
              "  }\n",
              "\n",
              "  [theme=dark] .colab-df-quickchart {\n",
              "      --bg-color: #3B4455;\n",
              "      --fill-color: #D2E3FC;\n",
              "      --hover-bg-color: #434B5C;\n",
              "      --hover-fill-color: #FFFFFF;\n",
              "      --disabled-bg-color: #3B4455;\n",
              "      --disabled-fill-color: #666;\n",
              "  }\n",
              "\n",
              "  .colab-df-quickchart {\n",
              "    background-color: var(--bg-color);\n",
              "    border: none;\n",
              "    border-radius: 50%;\n",
              "    cursor: pointer;\n",
              "    display: none;\n",
              "    fill: var(--fill-color);\n",
              "    height: 32px;\n",
              "    padding: 0;\n",
              "    width: 32px;\n",
              "  }\n",
              "\n",
              "  .colab-df-quickchart:hover {\n",
              "    background-color: var(--hover-bg-color);\n",
              "    box-shadow: 0 1px 2px rgba(60, 64, 67, 0.3), 0 1px 3px 1px rgba(60, 64, 67, 0.15);\n",
              "    fill: var(--button-hover-fill-color);\n",
              "  }\n",
              "\n",
              "  .colab-df-quickchart-complete:disabled,\n",
              "  .colab-df-quickchart-complete:disabled:hover {\n",
              "    background-color: var(--disabled-bg-color);\n",
              "    fill: var(--disabled-fill-color);\n",
              "    box-shadow: none;\n",
              "  }\n",
              "\n",
              "  .colab-df-spinner {\n",
              "    border: 2px solid var(--fill-color);\n",
              "    border-color: transparent;\n",
              "    border-bottom-color: var(--fill-color);\n",
              "    animation:\n",
              "      spin 1s steps(1) infinite;\n",
              "  }\n",
              "\n",
              "  @keyframes spin {\n",
              "    0% {\n",
              "      border-color: transparent;\n",
              "      border-bottom-color: var(--fill-color);\n",
              "      border-left-color: var(--fill-color);\n",
              "    }\n",
              "    20% {\n",
              "      border-color: transparent;\n",
              "      border-left-color: var(--fill-color);\n",
              "      border-top-color: var(--fill-color);\n",
              "    }\n",
              "    30% {\n",
              "      border-color: transparent;\n",
              "      border-left-color: var(--fill-color);\n",
              "      border-top-color: var(--fill-color);\n",
              "      border-right-color: var(--fill-color);\n",
              "    }\n",
              "    40% {\n",
              "      border-color: transparent;\n",
              "      border-right-color: var(--fill-color);\n",
              "      border-top-color: var(--fill-color);\n",
              "    }\n",
              "    60% {\n",
              "      border-color: transparent;\n",
              "      border-right-color: var(--fill-color);\n",
              "    }\n",
              "    80% {\n",
              "      border-color: transparent;\n",
              "      border-right-color: var(--fill-color);\n",
              "      border-bottom-color: var(--fill-color);\n",
              "    }\n",
              "    90% {\n",
              "      border-color: transparent;\n",
              "      border-bottom-color: var(--fill-color);\n",
              "    }\n",
              "  }\n",
              "</style>\n",
              "\n",
              "  <script>\n",
              "    async function quickchart(key) {\n",
              "      const quickchartButtonEl =\n",
              "        document.querySelector('#' + key + ' button');\n",
              "      quickchartButtonEl.disabled = true;  // To prevent multiple clicks.\n",
              "      quickchartButtonEl.classList.add('colab-df-spinner');\n",
              "      try {\n",
              "        const charts = await google.colab.kernel.invokeFunction(\n",
              "            'suggestCharts', [key], {});\n",
              "      } catch (error) {\n",
              "        console.error('Error during call to suggestCharts:', error);\n",
              "      }\n",
              "      quickchartButtonEl.classList.remove('colab-df-spinner');\n",
              "      quickchartButtonEl.classList.add('colab-df-quickchart-complete');\n",
              "    }\n",
              "    (() => {\n",
              "      let quickchartButtonEl =\n",
              "        document.querySelector('#df-a4aa4e5c-51c7-4d09-b3b4-733bca955eaf button');\n",
              "      quickchartButtonEl.style.display =\n",
              "        google.colab.kernel.accessAllowed ? 'block' : 'none';\n",
              "    })();\n",
              "  </script>\n",
              "</div>\n",
              "    </div>\n",
              "  </div>\n"
            ]
          },
          "metadata": {},
          "execution_count": 44
        }
      ]
    },
    {
      "cell_type": "code",
      "source": [
        "inputs = {i:keras.layers.Input(shape = (1,), name = i) for i in numerical_cols+categorical_cols}\n",
        "print(inputs)"
      ],
      "metadata": {
        "colab": {
          "base_uri": "https://localhost:8080/"
        },
        "id": "nNl5MRwmNUx4",
        "outputId": "fbbdc792-2905-4974-ac17-b394757f2967"
      },
      "execution_count": 45,
      "outputs": [
        {
          "output_type": "stream",
          "name": "stdout",
          "text": [
            "{'CGPA': <KerasTensor: shape=(None, 1) dtype=float32 (created by layer 'CGPA')>, 'Internships': <KerasTensor: shape=(None, 1) dtype=float32 (created by layer 'Internships')>, 'Projects': <KerasTensor: shape=(None, 1) dtype=float32 (created by layer 'Projects')>, 'Workshops/Certifications': <KerasTensor: shape=(None, 1) dtype=float32 (created by layer 'Workshops/Certifications')>, 'AptitudeTestScore': <KerasTensor: shape=(None, 1) dtype=float32 (created by layer 'AptitudeTestScore')>, 'SoftSkillsRating': <KerasTensor: shape=(None, 1) dtype=float32 (created by layer 'SoftSkillsRating')>, 'SSC_Marks': <KerasTensor: shape=(None, 1) dtype=float32 (created by layer 'SSC_Marks')>, 'HSC_Marks': <KerasTensor: shape=(None, 1) dtype=float32 (created by layer 'HSC_Marks')>, 'ExtracurricularActivities': <KerasTensor: shape=(None, 1) dtype=float32 (created by layer 'ExtracurricularActivities')>, 'PlacementTraining': <KerasTensor: shape=(None, 1) dtype=float32 (created by layer 'PlacementTraining')>}\n"
          ]
        }
      ]
    },
    {
      "cell_type": "code",
      "source": [
        "train_df, test_df = train_test_split(df, test_size = 0.2, random_state = 42)\n",
        "print(train_df.head(5))\n",
        "print(test_df.head(5))"
      ],
      "metadata": {
        "id": "hrMk4TPxUlz6",
        "colab": {
          "base_uri": "https://localhost:8080/"
        },
        "outputId": "2ca099d2-a287-4681-9546-740124affd2b"
      },
      "execution_count": 46,
      "outputs": [
        {
          "output_type": "stream",
          "name": "stdout",
          "text": [
            "      CGPA  Internships  Projects  Workshops/Certifications  \\\n",
            "9254   8.0            1         3                         3   \n",
            "1561   7.6            1         2                         1   \n",
            "1670   8.2            1         3                         2   \n",
            "6087   7.7            1         1                         0   \n",
            "6669   8.5            2         3                         2   \n",
            "\n",
            "      AptitudeTestScore  SoftSkillsRating  ExtracurricularActivities  \\\n",
            "9254                 87               4.6                          0   \n",
            "1561                 87               3.8                          0   \n",
            "1670                 86               4.4                          0   \n",
            "6087                 64               4.1                          1   \n",
            "6669                 90               4.8                          0   \n",
            "\n",
            "      PlacementTraining  SSC_Marks  HSC_Marks  PlacementStatus  \n",
            "9254                  1         83         88              1.0  \n",
            "1561                  0         61         85              0.0  \n",
            "1670                  0         76         65              1.0  \n",
            "6087                  1         55         59              0.0  \n",
            "6669                  1         80         87              1.0  \n",
            "      CGPA  Internships  Projects  Workshops/Certifications  \\\n",
            "6252   7.6            0         1                         0   \n",
            "4684   7.5            1         1                         0   \n",
            "1731   6.6            1         1                         1   \n",
            "4742   8.5            1         3                         2   \n",
            "4521   8.2            1         0                         2   \n",
            "\n",
            "      AptitudeTestScore  SoftSkillsRating  ExtracurricularActivities  \\\n",
            "6252                 80               3.9                          1   \n",
            "4684                 81               3.8                          0   \n",
            "1731                 60               4.0                          1   \n",
            "4742                 90               4.8                          0   \n",
            "4521                 90               4.7                          0   \n",
            "\n",
            "      PlacementTraining  SSC_Marks  HSC_Marks  PlacementStatus  \n",
            "6252                  1         60         71              0.0  \n",
            "4684                  0         56         58              0.0  \n",
            "1731                  1         55         64              0.0  \n",
            "4742                  0         88         87              0.0  \n",
            "4521                  0         73         88              1.0  \n"
          ]
        }
      ]
    },
    {
      "cell_type": "code",
      "source": [
        "def make_layers(dataFrame, inputs):\n",
        "    preprocessing_layers_pre = []\n",
        "    for i in numerical_cols:\n",
        "        x = keras.layers.Normalization(\n",
        "        name= f'normalization_{i}',\n",
        "        axis=None)\n",
        "        x.adapt(dataFrame[i])\n",
        "        x = x(inputs[i])\n",
        "        preprocessing_layers_pre.append(x)\n",
        "    for i in categorical_cols:\n",
        "        x = keras.layers.CategoryEncoding(\n",
        "        num_tokens=2,\n",
        "        output_mode='one_hot',\n",
        "        name=f'category_encoded_{i}')(inputs[i])\n",
        "        preprocessing_layers_pre.append(x)\n",
        "\n",
        "    print(preprocessing_layers_pre)\n",
        "    concatenate_layer = keras.layers.Concatenate()(preprocessing_layers_pre)\n",
        "\n",
        "    dense_1 = keras.layers.Dense(units=10, activation = \"relu\", name='dense_layer_1')(concatenate_layer)\n",
        "    dense_2 = keras.layers.Dense(units=10, activation = \"relu\", name='dense_layer_2')(dense_1)\n",
        "    dense_output = keras.layers.Dense(units=1, activation = tf.sigmoid, name='dense_output')(dense_2)\n",
        "    outputs = {\n",
        "        'dense_output': dense_output\n",
        "    }\n",
        "\n",
        "    return outputs"
      ],
      "metadata": {
        "id": "63A_r0y9TgWg"
      },
      "execution_count": 47,
      "outputs": []
    },
    {
      "cell_type": "code",
      "source": [
        "def create_model(my_inputs, my_outputs, my_learning_rate, MERTICS):\n",
        "  model = tf.keras.Model(inputs=my_inputs, outputs=my_outputs)\n",
        "\n",
        "  model.compile(optimizer=tf.keras.optimizers.experimental.Adam(learning_rate=my_learning_rate),\n",
        "                loss=tf.keras.losses.BinaryCrossentropy(),\n",
        "                metrics=METRICS)\n",
        "\n",
        "  return model"
      ],
      "metadata": {
        "id": "lkI_JzmQc9mU"
      },
      "execution_count": 48,
      "outputs": []
    },
    {
      "cell_type": "code",
      "source": [
        "def train_model(model, dataset, epochs, batch_size, label_name, validation_split=0.1):\n",
        "\n",
        "  features = {name:np.array(value) for name, value in dataset.items()}\n",
        "  label = np.array(features.pop(label_name))\n",
        "  history = model.fit(x=features, y=label, batch_size=batch_size,\n",
        "                      epochs=epochs, shuffle=True)\n",
        "\n",
        "  epochs = history.epoch\n",
        "\n",
        "  hist = pd.DataFrame(history.history)\n",
        "\n",
        "  return epochs, hist"
      ],
      "metadata": {
        "id": "8gqCms9ctLxV"
      },
      "execution_count": 49,
      "outputs": []
    },
    {
      "cell_type": "code",
      "source": [
        "learning_rate = 0.001\n",
        "epochs = 15\n",
        "batch_size = 10\n",
        "label_name = \"PlacementStatus\"\n",
        "\n",
        "METRICS = [\n",
        "           tf.keras.metrics.BinaryAccuracy(name='accuracy'),\n",
        "          ]\n",
        "\n",
        "my_model = create_model(inputs, make_layers(train_df, inputs), learning_rate, METRICS)"
      ],
      "metadata": {
        "colab": {
          "base_uri": "https://localhost:8080/"
        },
        "id": "PiNouuiBt3qD",
        "outputId": "ce7b23a2-abf4-45b0-d3f8-676b245aa8fe"
      },
      "execution_count": 64,
      "outputs": [
        {
          "output_type": "stream",
          "name": "stdout",
          "text": [
            "[<KerasTensor: shape=(None, 1) dtype=float32 (created by layer 'normalization_CGPA')>, <KerasTensor: shape=(None, 1) dtype=float32 (created by layer 'normalization_Internships')>, <KerasTensor: shape=(None, 1) dtype=float32 (created by layer 'normalization_Projects')>, <KerasTensor: shape=(None, 1) dtype=float32 (created by layer 'normalization_Workshops/Certifications')>, <KerasTensor: shape=(None, 1) dtype=float32 (created by layer 'normalization_AptitudeTestScore')>, <KerasTensor: shape=(None, 1) dtype=float32 (created by layer 'normalization_SoftSkillsRating')>, <KerasTensor: shape=(None, 1) dtype=float32 (created by layer 'normalization_SSC_Marks')>, <KerasTensor: shape=(None, 1) dtype=float32 (created by layer 'normalization_HSC_Marks')>, <KerasTensor: shape=(None, 2) dtype=float32 (created by layer 'category_encoded_ExtracurricularActivities')>, <KerasTensor: shape=(None, 2) dtype=float32 (created by layer 'category_encoded_PlacementTraining')>]\n"
          ]
        }
      ]
    },
    {
      "cell_type": "code",
      "source": [
        "my_model.summary()"
      ],
      "metadata": {
        "id": "di___6jcvGOE",
        "colab": {
          "base_uri": "https://localhost:8080/"
        },
        "outputId": "cd670913-aa04-42c2-fed5-99daf786abb7"
      },
      "execution_count": 65,
      "outputs": [
        {
          "output_type": "stream",
          "name": "stdout",
          "text": [
            "Model: \"model_6\"\n",
            "__________________________________________________________________________________________________\n",
            " Layer (type)                Output Shape                 Param #   Connected to                  \n",
            "==================================================================================================\n",
            " CGPA (InputLayer)           [(None, 1)]                  0         []                            \n",
            "                                                                                                  \n",
            " Internships (InputLayer)    [(None, 1)]                  0         []                            \n",
            "                                                                                                  \n",
            " Projects (InputLayer)       [(None, 1)]                  0         []                            \n",
            "                                                                                                  \n",
            " Workshops/Certifications (  [(None, 1)]                  0         []                            \n",
            " InputLayer)                                                                                      \n",
            "                                                                                                  \n",
            " AptitudeTestScore (InputLa  [(None, 1)]                  0         []                            \n",
            " yer)                                                                                             \n",
            "                                                                                                  \n",
            " SoftSkillsRating (InputLay  [(None, 1)]                  0         []                            \n",
            " er)                                                                                              \n",
            "                                                                                                  \n",
            " SSC_Marks (InputLayer)      [(None, 1)]                  0         []                            \n",
            "                                                                                                  \n",
            " HSC_Marks (InputLayer)      [(None, 1)]                  0         []                            \n",
            "                                                                                                  \n",
            " ExtracurricularActivities   [(None, 1)]                  0         []                            \n",
            " (InputLayer)                                                                                     \n",
            "                                                                                                  \n",
            " PlacementTraining (InputLa  [(None, 1)]                  0         []                            \n",
            " yer)                                                                                             \n",
            "                                                                                                  \n",
            " normalization_CGPA (Normal  (None, 1)                    3         ['CGPA[0][0]']                \n",
            " ization)                                                                                         \n",
            "                                                                                                  \n",
            " normalization_Internships   (None, 1)                    3         ['Internships[0][0]']         \n",
            " (Normalization)                                                                                  \n",
            "                                                                                                  \n",
            " normalization_Projects (No  (None, 1)                    3         ['Projects[0][0]']            \n",
            " rmalization)                                                                                     \n",
            "                                                                                                  \n",
            " normalization_Workshops/Ce  (None, 1)                    3         ['Workshops/Certifications[0][\n",
            " rtifications (Normalizatio                                         0]']                          \n",
            " n)                                                                                               \n",
            "                                                                                                  \n",
            " normalization_AptitudeTest  (None, 1)                    3         ['AptitudeTestScore[0][0]']   \n",
            " Score (Normalization)                                                                            \n",
            "                                                                                                  \n",
            " normalization_SoftSkillsRa  (None, 1)                    3         ['SoftSkillsRating[0][0]']    \n",
            " ting (Normalization)                                                                             \n",
            "                                                                                                  \n",
            " normalization_SSC_Marks (N  (None, 1)                    3         ['SSC_Marks[0][0]']           \n",
            " ormalization)                                                                                    \n",
            "                                                                                                  \n",
            " normalization_HSC_Marks (N  (None, 1)                    3         ['HSC_Marks[0][0]']           \n",
            " ormalization)                                                                                    \n",
            "                                                                                                  \n",
            " category_encoded_Extracurr  (None, 2)                    0         ['ExtracurricularActivities[0]\n",
            " icularActivities (Category                                         [0]']                         \n",
            " Encoding)                                                                                        \n",
            "                                                                                                  \n",
            " category_encoded_Placement  (None, 2)                    0         ['PlacementTraining[0][0]']   \n",
            " Training (CategoryEncoding                                                                       \n",
            " )                                                                                                \n",
            "                                                                                                  \n",
            " concatenate_7 (Concatenate  (None, 12)                   0         ['normalization_CGPA[0][0]',  \n",
            " )                                                                   'normalization_Internships[0]\n",
            "                                                                    [0]',                         \n",
            "                                                                     'normalization_Projects[0][0]\n",
            "                                                                    ',                            \n",
            "                                                                     'normalization_Workshops/Cert\n",
            "                                                                    ifications[0][0]',            \n",
            "                                                                     'normalization_AptitudeTestSc\n",
            "                                                                    ore[0][0]',                   \n",
            "                                                                     'normalization_SoftSkillsRati\n",
            "                                                                    ng[0][0]',                    \n",
            "                                                                     'normalization_SSC_Marks[0][0\n",
            "                                                                    ]',                           \n",
            "                                                                     'normalization_HSC_Marks[0][0\n",
            "                                                                    ]',                           \n",
            "                                                                     'category_encoded_Extracurric\n",
            "                                                                    ularActivities[0][0]',        \n",
            "                                                                     'category_encoded_PlacementTr\n",
            "                                                                    aining[0][0]']                \n",
            "                                                                                                  \n",
            " dense_layer_1 (Dense)       (None, 10)                   130       ['concatenate_7[0][0]']       \n",
            "                                                                                                  \n",
            " dense_layer_2 (Dense)       (None, 10)                   110       ['dense_layer_1[0][0]']       \n",
            "                                                                                                  \n",
            " dense_output (Dense)        (None, 1)                    11        ['dense_layer_2[0][0]']       \n",
            "                                                                                                  \n",
            "==================================================================================================\n",
            "Total params: 275 (1.11 KB)\n",
            "Trainable params: 251 (1004.00 Byte)\n",
            "Non-trainable params: 24 (128.00 Byte)\n",
            "__________________________________________________________________________________________________\n"
          ]
        }
      ]
    },
    {
      "cell_type": "code",
      "source": [
        "epoch, rmse = train_model(my_model, train_df, epochs, batch_size, label_name)"
      ],
      "metadata": {
        "id": "D15RFxVLvk8f",
        "colab": {
          "base_uri": "https://localhost:8080/"
        },
        "outputId": "0d4c865b-dab9-446d-f9e3-cfe11bcb1c96"
      },
      "execution_count": 66,
      "outputs": [
        {
          "output_type": "stream",
          "name": "stdout",
          "text": [
            "Epoch 1/15\n",
            "800/800 [==============================] - 3s 3ms/step - loss: 0.4751 - accuracy: 0.7747\n",
            "Epoch 2/15\n",
            "800/800 [==============================] - 2s 3ms/step - loss: 0.4371 - accuracy: 0.7966\n",
            "Epoch 3/15\n",
            "800/800 [==============================] - 3s 3ms/step - loss: 0.4338 - accuracy: 0.8018\n",
            "Epoch 4/15\n",
            "800/800 [==============================] - 3s 3ms/step - loss: 0.4318 - accuracy: 0.8015\n",
            "Epoch 5/15\n",
            "800/800 [==============================] - 2s 2ms/step - loss: 0.4307 - accuracy: 0.8039\n",
            "Epoch 6/15\n",
            "800/800 [==============================] - 2s 2ms/step - loss: 0.4297 - accuracy: 0.8039\n",
            "Epoch 7/15\n",
            "800/800 [==============================] - 2s 2ms/step - loss: 0.4290 - accuracy: 0.8071\n",
            "Epoch 8/15\n",
            "800/800 [==============================] - 2s 2ms/step - loss: 0.4280 - accuracy: 0.8054\n",
            "Epoch 9/15\n",
            "800/800 [==============================] - 2s 2ms/step - loss: 0.4276 - accuracy: 0.8050\n",
            "Epoch 10/15\n",
            "800/800 [==============================] - 3s 4ms/step - loss: 0.4270 - accuracy: 0.8070\n",
            "Epoch 11/15\n",
            "800/800 [==============================] - 3s 3ms/step - loss: 0.4262 - accuracy: 0.8061\n",
            "Epoch 12/15\n",
            "800/800 [==============================] - 2s 3ms/step - loss: 0.4253 - accuracy: 0.8066\n",
            "Epoch 13/15\n",
            "800/800 [==============================] - 2s 3ms/step - loss: 0.4254 - accuracy: 0.8080\n",
            "Epoch 14/15\n",
            "800/800 [==============================] - 2s 2ms/step - loss: 0.4251 - accuracy: 0.8070\n",
            "Epoch 15/15\n",
            "800/800 [==============================] - 2s 2ms/step - loss: 0.4249 - accuracy: 0.8054\n"
          ]
        }
      ]
    },
    {
      "cell_type": "code",
      "source": [
        "rmse.loss"
      ],
      "metadata": {
        "id": "c-72I2Mp0U0I",
        "colab": {
          "base_uri": "https://localhost:8080/"
        },
        "outputId": "a18e051a-3212-4901-e06a-10dca1a6ddb6"
      },
      "execution_count": 67,
      "outputs": [
        {
          "output_type": "execute_result",
          "data": {
            "text/plain": [
              "0     0.475109\n",
              "1     0.437073\n",
              "2     0.433770\n",
              "3     0.431844\n",
              "4     0.430660\n",
              "5     0.429723\n",
              "6     0.429007\n",
              "7     0.428004\n",
              "8     0.427599\n",
              "9     0.426975\n",
              "10    0.426222\n",
              "11    0.425324\n",
              "12    0.425437\n",
              "13    0.425083\n",
              "14    0.424915\n",
              "Name: loss, dtype: float64"
            ]
          },
          "metadata": {},
          "execution_count": 67
        }
      ]
    },
    {
      "cell_type": "code",
      "source": [
        "plt.plot(epoch, rmse.loss)"
      ],
      "metadata": {
        "colab": {
          "base_uri": "https://localhost:8080/",
          "height": 448
        },
        "id": "ZmMdtri6zlxa",
        "outputId": "9a5303ef-73e6-4990-c14b-098d6c6da63c"
      },
      "execution_count": 68,
      "outputs": [
        {
          "output_type": "execute_result",
          "data": {
            "text/plain": [
              "[<matplotlib.lines.Line2D at 0x7be8ef4260e0>]"
            ]
          },
          "metadata": {},
          "execution_count": 68
        },
        {
          "output_type": "display_data",
          "data": {
            "text/plain": [
              "<Figure size 640x480 with 1 Axes>"
            ],
            "image/png": "[encoded data removed]"
          },
          "metadata": {}
        }
      ]
    },
    {
      "cell_type": "code",
      "source": [
        "plt.plot(epoch, rmse.accuracy)"
      ],
      "metadata": {
        "id": "jKG2hIU11iCP",
        "outputId": "5b0bdc65-6ad9-42d2-9be6-efd81e30ae7d",
        "colab": {
          "base_uri": "https://localhost:8080/",
          "height": 448
        }
      },
      "execution_count": 69,
      "outputs": [
        {
          "output_type": "execute_result",
          "data": {
            "text/plain": [
              "[<matplotlib.lines.Line2D at 0x7be8ef2a1b10>]"
            ]
          },
          "metadata": {},
          "execution_count": 69
        },
        {
          "output_type": "display_data",
          "data": {
            "text/plain": [
              "<Figure size 640x480 with 1 Axes>"
            ],
            "image/png": "[encoded data removed]"
          },
          "metadata": {}
        }
      ]
    },
    {
      "cell_type": "code",
      "source": [
        "test_features = {name:np.array(value) for name, value in test_df.items()}\n",
        "test_label = np.array(test_features.pop(label_name))\n",
        "my_model.evaluate(x=test_features, y=test_label, batch_size=batch_size)"
      ],
      "metadata": {
        "colab": {
          "base_uri": "https://localhost:8080/"
        },
        "id": "N1r5mvILx9eJ",
        "outputId": "dbcd02c1-7ae9-4315-e9d2-41bd925bfd67"
      },
      "execution_count": 70,
      "outputs": [
        {
          "output_type": "stream",
          "name": "stdout",
          "text": [
            "200/200 [==============================] - 1s 2ms/step - loss: 0.4365 - accuracy: 0.7970\n"
          ]
        },
        {
          "output_type": "execute_result",
          "data": {
            "text/plain": [
              "[0.4364520311355591, 0.796999990940094]"
            ]
          },
          "metadata": {},
          "execution_count": 70
        }
      ]
    }
  ]
}